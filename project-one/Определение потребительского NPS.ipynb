{
 "cells": [
  {
   "cell_type": "markdown",
   "id": "42188f1f",
   "metadata": {},
   "source": [
    "# Этап 1. Получение данных из базы данных"
   ]
  },
  {
   "cell_type": "markdown",
   "id": "f0e9898c",
   "metadata": {},
   "source": [
    "Импортируем библиотеки"
   ]
  },
  {
   "cell_type": "code",
   "execution_count": 1,
   "id": "fc7efa54",
   "metadata": {},
   "outputs": [],
   "source": [
    "import os\n",
    "import pandas as pd\n",
    "import numpy as np\n",
    "\n",
    "from sqlalchemy import create_engine"
   ]
  },
  {
   "cell_type": "markdown",
   "id": "6746bf4f",
   "metadata": {},
   "source": [
    "Создаем подключение к базе данных SQLite"
   ]
  },
  {
   "cell_type": "code",
   "execution_count": 2,
   "id": "0017f8e7",
   "metadata": {},
   "outputs": [],
   "source": [
    "path_to_db_local = ''\n",
    "path_to_db = None\n",
    "\n",
    "if os.path.exists(path_to_db_local):\n",
    "    path_to_db = path_to_db_local\n",
    "else:\n",
    "    raise Exception('Файл с базой данных SQLite не найден!')\n",
    "\n",
    "if path_to_db:\n",
    "    engine = create_engine(f'sqlite:///{path_to_db}', echo=False)"
   ]
  },
  {
   "cell_type": "markdown",
   "id": "6b2531ff",
   "metadata": {},
   "source": [
    "Создаем запрос к базе данных, который позволит загрузить нужный датасет"
   ]
  },
  {
   "cell_type": "code",
   "execution_count": 3,
   "id": "538c68c0",
   "metadata": {},
   "outputs": [],
   "source": [
    "query = ''' \n",
    " WITH us AS (\n",
    "     SELECT *,\n",
    "        CASE\n",
    "            WHEN lt_day >= 365 THEN 'old client'\n",
    "            ELSE 'new client'\n",
    "        END AS is_new,\n",
    " \n",
    "        CASE\n",
    "            WHEN gender_segment = 1 THEN 'Female'\n",
    "            WHEN gender_segment = 0 THEN 'Male'\n",
    "            ELSE 'unknown'\n",
    "        END AS gender_seg,\n",
    "\n",
    "        CASE\n",
    "        WHEN nps_score <= 10 AND nps_score >= 9 THEN 'promoter'\n",
    "        WHEN nps_score <= 8 AND nps_score >= 7 THEN 'passive'\n",
    "        ELSE\n",
    "            'detractor'\n",
    "        END AS nps_group\n",
    " \n",
    "FROM user AS u),\n",
    " \n",
    "age_seg AS (SELECT *, SUBSTR (title, 4) AS age_segment\n",
    "FROM age_segment),\n",
    " \n",
    "traffic_seg AS (SELECT *, SUBSTR (title, 4) AS traffic_segment\n",
    "FROM traffic_segment),\n",
    " \n",
    "lifetime_seg AS (SELECT *, SUBSTR (title, 4) AS lifetime_segment\n",
    "FROM lifetime_segment)\n",
    "\n",
    "SELECT us.user_id,\n",
    "       us.lt_day,\n",
    "       us.is_new,\n",
    "       us.age,\n",
    "       us.gender_seg,\n",
    "       us.os_name,\n",
    "       us.cpe_type_name,\n",
    "       loc.country,\n",
    "       loc.city,\n",
    "       age_seg.age_segment,\n",
    "       traffic_seg.traffic_segment,\n",
    "       lifetime_seg.lifetime_segment,\n",
    "       us.nps_score,\n",
    "       us.nps_group\n",
    "\n",
    "FROM us \n",
    "INNER JOIN location AS loc ON us.location_id = loc.location_id\n",
    "INNER JOIN age_seg ON us.age_gr_id = age_seg.age_gr_id\n",
    "INNER JOIN traffic_seg ON us.tr_gr_id = traffic_seg.tr_gr_id\n",
    "INNER JOIN lifetime_seg ON us.lt_gr_id = lifetime_seg.lt_gr_id;\n",
    "'''"
   ]
  },
  {
   "cell_type": "code",
   "execution_count": null,
   "id": "cdd9885f",
   "metadata": {},
   "outputs": [],
   "source": [
    "Получим и рассмотрим первые строки полученного датасета, сохраним его в переменную df"
   ]
  },
  {
   "cell_type": "code",
   "execution_count": 1,
   "id": "3965faf2",
   "metadata": {
    "scrolled": true
   },
   "outputs": [
    {
     "ename": "NameError",
     "evalue": "name 'pd' is not defined",
     "output_type": "error",
     "traceback": [
      "\u001b[0;31m---------------------------------------------------------------------------\u001b[0m",
      "\u001b[0;31mNameError\u001b[0m                                 Traceback (most recent call last)",
      "Input \u001b[0;32mIn [1]\u001b[0m, in \u001b[0;36m<cell line: 1>\u001b[0;34m()\u001b[0m\n\u001b[0;32m----> 1\u001b[0m df \u001b[38;5;241m=\u001b[39m \u001b[43mpd\u001b[49m\u001b[38;5;241m.\u001b[39mread_sql(query, engine)\n\u001b[1;32m      2\u001b[0m df\u001b[38;5;241m.\u001b[39mhead(\u001b[38;5;241m3\u001b[39m)\n",
      "\u001b[0;31mNameError\u001b[0m: name 'pd' is not defined"
     ]
    }
   ],
   "source": [
    "df = pd.read_sql(query, engine)\n",
    "df.head(3)"
   ]
  },
  {
   "cell_type": "markdown",
   "id": "dbe482d3",
   "metadata": {},
   "source": [
    "На основе полученных данных созданим презентацию и дашборд"
   ]
  },
  {
   "cell_type": "markdown",
   "id": "f56981a9",
   "metadata": {},
   "source": [
    "## Ссылка на презентацию:"
   ]
  },
  {
   "cell_type": "markdown",
   "id": "4b97792e",
   "metadata": {},
   "source": [
    "https://drive.google.com/file/d/197AMWuk1uJotWVyFIoxNPijwGaXNXH95/view?usp=sharing"
   ]
  },
  {
   "cell_type": "markdown",
   "id": "e7561a01",
   "metadata": {},
   "source": [
    "## Ссылка на дашборд"
   ]
  },
  {
   "cell_type": "markdown",
   "id": "e0bc485a",
   "metadata": {},
   "source": [
    "https://public.tableau.com/views/NPS_16800868866220/Dashboard1?:language=en-US&publish=yes&:display_count=n&:origin=viz_share_link"
   ]
  }
 ],
 "metadata": {
  "ExecuteTimeLog": [
   {
    "duration": 483,
    "start_time": "2023-03-28T08:57:23.948Z"
   },
   {
    "duration": 68,
    "start_time": "2023-03-28T08:57:24.433Z"
   },
   {
    "duration": 2,
    "start_time": "2023-03-28T08:57:24.503Z"
   },
   {
    "duration": 356,
    "start_time": "2023-03-28T08:57:24.507Z"
   },
   {
    "duration": 0,
    "start_time": "2023-03-28T08:57:24.865Z"
   },
   {
    "duration": 2,
    "start_time": "2023-03-28T08:57:57.394Z"
   },
   {
    "duration": 2,
    "start_time": "2023-03-28T08:58:06.441Z"
   },
   {
    "duration": 53,
    "start_time": "2023-03-28T08:58:07.262Z"
   },
   {
    "duration": 3,
    "start_time": "2023-03-28T08:58:08.307Z"
   },
   {
    "duration": 93,
    "start_time": "2023-03-28T08:58:28.904Z"
   },
   {
    "duration": 72,
    "start_time": "2023-03-28T08:58:44.767Z"
   },
   {
    "duration": 74,
    "start_time": "2023-03-28T08:58:48.323Z"
   },
   {
    "duration": 72,
    "start_time": "2023-03-28T08:59:02.226Z"
   },
   {
    "duration": 71,
    "start_time": "2023-03-28T08:59:39.806Z"
   },
   {
    "duration": 71,
    "start_time": "2023-03-28T09:00:52.073Z"
   },
   {
    "duration": 81,
    "start_time": "2023-03-28T09:01:03.799Z"
   },
   {
    "duration": 2,
    "start_time": "2023-03-28T09:02:18.142Z"
   },
   {
    "duration": 3266,
    "start_time": "2023-03-28T09:02:20.540Z"
   },
   {
    "duration": 3,
    "start_time": "2023-03-28T09:03:32.933Z"
   },
   {
    "duration": 3,
    "start_time": "2023-03-28T09:03:49.602Z"
   },
   {
    "duration": 283,
    "start_time": "2023-03-28T09:03:50.903Z"
   },
   {
    "duration": 2,
    "start_time": "2023-03-28T09:04:05.513Z"
   },
   {
    "duration": 3333,
    "start_time": "2023-03-28T09:04:07.637Z"
   },
   {
    "duration": 3,
    "start_time": "2023-03-28T09:05:03.002Z"
   },
   {
    "duration": 3467,
    "start_time": "2023-03-28T09:05:03.756Z"
   },
   {
    "duration": 2,
    "start_time": "2023-03-28T09:05:29.662Z"
   },
   {
    "duration": 3591,
    "start_time": "2023-03-28T09:05:30.448Z"
   },
   {
    "duration": 2,
    "start_time": "2023-03-28T09:06:00.498Z"
   },
   {
    "duration": 3443,
    "start_time": "2023-03-28T09:06:01.104Z"
   },
   {
    "duration": 3,
    "start_time": "2023-03-28T09:06:39.386Z"
   },
   {
    "duration": 1643,
    "start_time": "2023-03-28T09:06:40.109Z"
   },
   {
    "duration": 3,
    "start_time": "2023-03-28T09:11:58.762Z"
   },
   {
    "duration": 291,
    "start_time": "2023-03-28T09:12:01.182Z"
   },
   {
    "duration": 3,
    "start_time": "2023-03-28T09:12:25.620Z"
   },
   {
    "duration": 8155,
    "start_time": "2023-03-28T09:12:26.488Z"
   },
   {
    "duration": 2,
    "start_time": "2023-03-28T09:38:46.354Z"
   },
   {
    "duration": 268,
    "start_time": "2023-03-28T09:38:47.829Z"
   },
   {
    "duration": 3,
    "start_time": "2023-03-28T09:39:03.488Z"
   },
   {
    "duration": 8389,
    "start_time": "2023-03-28T09:39:06.311Z"
   },
   {
    "duration": 3,
    "start_time": "2023-03-28T09:40:33.941Z"
   },
   {
    "duration": 8396,
    "start_time": "2023-03-28T09:40:34.716Z"
   },
   {
    "duration": 536,
    "start_time": "2023-03-28T09:42:09.619Z"
   },
   {
    "duration": 62,
    "start_time": "2023-03-28T09:42:10.157Z"
   },
   {
    "duration": 5,
    "start_time": "2023-03-28T09:42:10.220Z"
   },
   {
    "duration": 465,
    "start_time": "2023-03-28T09:42:10.227Z"
   },
   {
    "duration": 0,
    "start_time": "2023-03-28T09:42:10.693Z"
   },
   {
    "duration": 4,
    "start_time": "2023-03-28T09:42:37.047Z"
   },
   {
    "duration": 427,
    "start_time": "2023-03-28T09:42:37.688Z"
   },
   {
    "duration": 3,
    "start_time": "2023-03-28T09:43:18.357Z"
   },
   {
    "duration": 431,
    "start_time": "2023-03-28T09:43:19.455Z"
   },
   {
    "duration": 3,
    "start_time": "2023-03-28T09:44:44.820Z"
   },
   {
    "duration": 5671,
    "start_time": "2023-03-28T09:44:46.204Z"
   },
   {
    "duration": 2,
    "start_time": "2023-03-28T09:46:14.142Z"
   },
   {
    "duration": 285,
    "start_time": "2023-03-28T09:46:14.981Z"
   },
   {
    "duration": 3,
    "start_time": "2023-03-28T09:47:15.539Z"
   },
   {
    "duration": 281,
    "start_time": "2023-03-28T09:47:16.132Z"
   },
   {
    "duration": 2,
    "start_time": "2023-03-28T09:47:34.508Z"
   },
   {
    "duration": 272,
    "start_time": "2023-03-28T09:47:46.618Z"
   },
   {
    "duration": 3,
    "start_time": "2023-03-28T09:48:02.272Z"
   },
   {
    "duration": 274,
    "start_time": "2023-03-28T09:48:04.055Z"
   },
   {
    "duration": 2,
    "start_time": "2023-03-28T09:49:13.552Z"
   },
   {
    "duration": 267,
    "start_time": "2023-03-28T09:49:15.167Z"
   },
   {
    "duration": 3,
    "start_time": "2023-03-28T09:49:47.588Z"
   },
   {
    "duration": 267,
    "start_time": "2023-03-28T09:49:49.195Z"
   },
   {
    "duration": 4,
    "start_time": "2023-03-28T09:50:17.806Z"
   },
   {
    "duration": 4609,
    "start_time": "2023-03-28T09:50:19.187Z"
   },
   {
    "duration": 3,
    "start_time": "2023-03-28T09:50:57.993Z"
   },
   {
    "duration": 4488,
    "start_time": "2023-03-28T09:50:59.434Z"
   },
   {
    "duration": 2,
    "start_time": "2023-03-28T09:54:02.102Z"
   },
   {
    "duration": 4375,
    "start_time": "2023-03-28T09:54:02.771Z"
   },
   {
    "duration": 2,
    "start_time": "2023-03-28T09:54:23.657Z"
   },
   {
    "duration": 4538,
    "start_time": "2023-03-28T09:54:24.111Z"
   },
   {
    "duration": 3,
    "start_time": "2023-03-28T09:55:03.813Z"
   },
   {
    "duration": 4349,
    "start_time": "2023-03-28T09:55:09.752Z"
   },
   {
    "duration": 2,
    "start_time": "2023-03-28T09:56:57.454Z"
   },
   {
    "duration": 4883,
    "start_time": "2023-03-28T09:56:58.131Z"
   },
   {
    "duration": 3,
    "start_time": "2023-03-28T09:58:35.487Z"
   },
   {
    "duration": 4290,
    "start_time": "2023-03-28T09:58:35.892Z"
   },
   {
    "duration": 2,
    "start_time": "2023-03-28T09:58:46.340Z"
   },
   {
    "duration": 4205,
    "start_time": "2023-03-28T09:58:46.874Z"
   },
   {
    "duration": 2,
    "start_time": "2023-03-28T09:59:04.282Z"
   },
   {
    "duration": 4370,
    "start_time": "2023-03-28T09:59:05.610Z"
   },
   {
    "duration": 2,
    "start_time": "2023-03-28T09:59:23.861Z"
   },
   {
    "duration": 4251,
    "start_time": "2023-03-28T09:59:24.493Z"
   },
   {
    "duration": 2,
    "start_time": "2023-03-28T09:59:36.693Z"
   },
   {
    "duration": 4349,
    "start_time": "2023-03-28T09:59:37.375Z"
   },
   {
    "duration": 4,
    "start_time": "2023-03-28T10:13:49.134Z"
   },
   {
    "duration": 465,
    "start_time": "2023-03-28T10:13:49.733Z"
   },
   {
    "duration": 3,
    "start_time": "2023-03-28T10:14:01.893Z"
   },
   {
    "duration": 4963,
    "start_time": "2023-03-28T10:14:02.407Z"
   },
   {
    "duration": 3,
    "start_time": "2023-03-28T10:14:26.026Z"
   },
   {
    "duration": 4823,
    "start_time": "2023-03-28T10:14:26.578Z"
   },
   {
    "duration": 3,
    "start_time": "2023-03-28T10:15:11.690Z"
   },
   {
    "duration": 514,
    "start_time": "2023-03-28T10:15:50.328Z"
   },
   {
    "duration": 64,
    "start_time": "2023-03-28T10:15:50.844Z"
   },
   {
    "duration": 4,
    "start_time": "2023-03-28T10:15:50.911Z"
   },
   {
    "duration": 5619,
    "start_time": "2023-03-28T10:15:50.918Z"
   },
   {
    "duration": 4867,
    "start_time": "2023-03-28T10:15:56.540Z"
   },
   {
    "duration": 2,
    "start_time": "2023-03-28T10:17:49.235Z"
   },
   {
    "duration": 5041,
    "start_time": "2023-03-28T10:17:49.837Z"
   },
   {
    "duration": 3,
    "start_time": "2023-03-28T10:18:04.329Z"
   },
   {
    "duration": 5000,
    "start_time": "2023-03-28T10:18:05.092Z"
   },
   {
    "duration": 4095,
    "start_time": "2023-03-28T10:18:14.473Z"
   },
   {
    "duration": 3,
    "start_time": "2023-03-28T10:19:37.852Z"
   },
   {
    "duration": 508,
    "start_time": "2023-03-28T10:19:38.397Z"
   },
   {
    "duration": 4,
    "start_time": "2023-03-28T10:19:54.519Z"
   },
   {
    "duration": 466,
    "start_time": "2023-03-28T10:19:55.389Z"
   },
   {
    "duration": 7,
    "start_time": "2023-03-28T10:20:21.966Z"
   },
   {
    "duration": 5365,
    "start_time": "2023-03-28T10:20:22.671Z"
   },
   {
    "duration": 4954,
    "start_time": "2023-03-28T10:20:30.693Z"
   },
   {
    "duration": 1321,
    "start_time": "2023-03-28T10:22:56.141Z"
   },
   {
    "duration": 1444,
    "start_time": "2023-03-28T10:26:08.626Z"
   },
   {
    "duration": 280,
    "start_time": "2023-03-28T10:29:10.925Z"
   },
   {
    "duration": 174,
    "start_time": "2023-03-28T10:29:19.660Z"
   },
   {
    "duration": 240,
    "start_time": "2023-03-28T10:30:01.511Z"
   },
   {
    "duration": 172,
    "start_time": "2023-03-28T10:30:03.306Z"
   },
   {
    "duration": 3633,
    "start_time": "2023-03-28T10:31:01.341Z"
   },
   {
    "duration": 520,
    "start_time": "2023-03-30T05:27:07.602Z"
   },
   {
    "duration": 9,
    "start_time": "2023-03-30T05:27:08.125Z"
   },
   {
    "duration": 6,
    "start_time": "2023-03-30T05:27:08.137Z"
   },
   {
    "duration": 5338,
    "start_time": "2023-03-30T05:27:08.145Z"
   },
   {
    "duration": 3751,
    "start_time": "2023-03-30T05:27:13.484Z"
   },
   {
    "duration": 1982,
    "start_time": "2023-03-30T05:27:17.237Z"
   },
   {
    "duration": 163,
    "start_time": "2023-03-30T05:27:19.221Z"
   },
   {
    "duration": 229,
    "start_time": "2023-03-30T05:27:19.386Z"
   },
   {
    "duration": 163,
    "start_time": "2023-03-30T05:27:19.617Z"
   },
   {
    "duration": 3468,
    "start_time": "2023-03-30T05:27:19.782Z"
   },
   {
    "duration": 710,
    "start_time": "2023-03-30T08:03:02.552Z"
   },
   {
    "duration": 319,
    "start_time": "2023-03-30T08:03:03.265Z"
   },
   {
    "duration": 5,
    "start_time": "2023-03-30T08:03:03.586Z"
   },
   {
    "duration": 8297,
    "start_time": "2023-03-30T08:03:03.594Z"
   },
   {
    "duration": 5747,
    "start_time": "2023-03-30T08:03:11.894Z"
   },
   {
    "duration": 2385,
    "start_time": "2023-03-30T08:03:17.643Z"
   },
   {
    "duration": 316,
    "start_time": "2023-03-30T08:03:20.031Z"
   },
   {
    "duration": 50,
    "start_time": "2023-03-30T08:03:20.349Z"
   },
   {
    "duration": 247,
    "start_time": "2023-03-30T08:03:20.403Z"
   },
   {
    "duration": 4948,
    "start_time": "2023-03-30T08:03:20.652Z"
   },
   {
    "duration": 4,
    "start_time": "2023-03-30T08:06:21.812Z"
   },
   {
    "duration": 601,
    "start_time": "2023-03-30T08:06:22.950Z"
   },
   {
    "duration": 3,
    "start_time": "2023-03-30T08:06:40.525Z"
   },
   {
    "duration": 626,
    "start_time": "2023-03-30T08:06:41.237Z"
   },
   {
    "duration": 4,
    "start_time": "2023-03-30T08:06:51.712Z"
   },
   {
    "duration": 5188,
    "start_time": "2023-03-30T08:06:52.257Z"
   },
   {
    "duration": 3,
    "start_time": "2023-03-30T08:11:16.554Z"
   },
   {
    "duration": 658,
    "start_time": "2023-03-30T08:11:17.408Z"
   },
   {
    "duration": 4,
    "start_time": "2023-03-30T08:11:38.446Z"
   },
   {
    "duration": 694,
    "start_time": "2023-03-30T08:11:39.101Z"
   },
   {
    "duration": 3,
    "start_time": "2023-03-30T08:13:56.052Z"
   },
   {
    "duration": 5501,
    "start_time": "2023-03-30T08:13:56.717Z"
   },
   {
    "duration": 3,
    "start_time": "2023-03-30T08:14:28.779Z"
   },
   {
    "duration": 680,
    "start_time": "2023-03-30T08:14:30.335Z"
   },
   {
    "duration": 5,
    "start_time": "2023-03-30T08:14:57.597Z"
   },
   {
    "duration": 610,
    "start_time": "2023-03-30T08:14:58.200Z"
   },
   {
    "duration": 3,
    "start_time": "2023-03-30T08:16:59.323Z"
   },
   {
    "duration": 395,
    "start_time": "2023-03-30T08:17:00.204Z"
   },
   {
    "duration": 2,
    "start_time": "2023-03-30T08:20:02.929Z"
   },
   {
    "duration": 5630,
    "start_time": "2023-03-30T08:20:04.772Z"
   },
   {
    "duration": 4862,
    "start_time": "2023-03-30T08:20:12.162Z"
   },
   {
    "duration": 2506,
    "start_time": "2023-03-30T08:20:17.026Z"
   },
   {
    "duration": 520,
    "start_time": "2023-03-31T04:34:42.786Z"
   },
   {
    "duration": 22,
    "start_time": "2023-03-31T04:34:43.308Z"
   },
   {
    "duration": 3,
    "start_time": "2023-03-31T04:34:43.331Z"
   },
   {
    "duration": 4943,
    "start_time": "2023-03-31T04:34:43.335Z"
   },
   {
    "duration": 3478,
    "start_time": "2023-03-31T04:34:48.279Z"
   }
  ],
  "kernelspec": {
   "display_name": "Python 3 (ipykernel)",
   "language": "python",
   "name": "python3"
  },
  "language_info": {
   "codemirror_mode": {
    "name": "ipython",
    "version": 3
   },
   "file_extension": ".py",
   "mimetype": "text/x-python",
   "name": "python",
   "nbconvert_exporter": "python",
   "pygments_lexer": "ipython3",
   "version": "3.9.12"
  },
  "toc": {
   "base_numbering": 1,
   "nav_menu": {},
   "number_sections": true,
   "sideBar": true,
   "skip_h1_title": true,
   "title_cell": "Table of Contents",
   "title_sidebar": "Contents",
   "toc_cell": false,
   "toc_position": {},
   "toc_section_display": true,
   "toc_window_display": false
  }
 },
 "nbformat": 4,
 "nbformat_minor": 5
}
